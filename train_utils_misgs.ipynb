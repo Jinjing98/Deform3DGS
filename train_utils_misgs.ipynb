{
 "cells": [
  {
   "cell_type": "code",
   "execution_count": 5,
   "id": "6614872c",
   "metadata": {},
   "outputs": [
    {
     "name": "stdout",
     "output_type": "stream",
     "text": [
      "The autoreload extension is already loaded. To reload it, use:\n",
      "  %reload_ext autoreload\n"
     ]
    }
   ],
   "source": [
    "%load_ext autoreload\n",
    "%autoreload 2\n"
   ]
  },
  {
   "cell_type": "code",
   "execution_count": null,
   "id": "22f11bc7",
   "metadata": {},
   "outputs": [],
   "source": [
    "import numpy as np\n",
    "import random\n",
    "import os \n",
    "import torch\n",
    "from random import randint\n",
    "# from utils.loss_utils import l1_loss\n",
    "from gaussian_renderer import render_flow as render\n",
    "import sys\n",
    "stdout = sys.stdout\n",
    "from scene import  Scene\n",
    "from scene.flexible_deform_model import TissueGaussianModel\n",
    "from scene.mis_gaussian_model import MisGaussianModel\n",
    "from utils.general_utils import safe_state\n",
    "from tqdm import tqdm\n",
    "from utils.image_utils import psnr\n",
    "from argparse import ArgumentParser, Namespace\n",
    "from arguments import ModelParams, PipelineParams, OptimizationParams\n",
    "from arguments import FDMHiddenParams as ModelHiddenParams\n",
    "from utils.timer import Timer\n",
    "import torch.nn.functional as F\n",
    "# import lpips\n",
    "from utils.scene_utils import render_training_image\n",
    "from scene.cameras import Camera\n",
    "from utils.loss_utils import ssim\n",
    "from train import training_report\n",
    "from utils.image_utils import save_img_torch, visualize_depth_numpy\n",
    "from datetime import datetime\n",
    "\n",
    "from train import setup_seed\n",
    "from train_utils_misgs import training_misgsmodel,scene_reconstruction_misgs,training_report_misgs\n",
    "import argparse\n",
    "\n",
    "parser = ArgumentParser(description=\"Training script parameters\")\n",
    "setup_seed(6666)\n",
    "lp = ModelParams(parser)\n",
    "op = OptimizationParams(parser)\n",
    "pp = PipelineParams(parser)\n",
    "hp = ModelHiddenParams(parser)\n",
    "parser.add_argument('--ip', type=str, default=\"127.0.0.1\")\n",
    "parser.add_argument('--port', type=int, default=6009)\n",
    "parser.add_argument('--debug_from', type=int, default=-1)\n",
    "parser.add_argument('--detect_anomaly', action='store_true', default=False)\n",
    "parser.add_argument(\"--test_iterations\", nargs=\"+\", type=int, default=[i*500 for i in range(0,120)])\n",
    "parser.add_argument(\"--save_iterations\", nargs=\"+\", type=int, default=[0,1])\n",
    "parser.add_argument(\"--checkpoint_iterations\", nargs=\"+\", type=int, default=[1])\n",
    "parser.add_argument(\"--quiet\", action=\"store_true\")\n",
    "parser.add_argument(\"--start_checkpoint\", type=str, default = None)\n",
    "parser.add_argument(\"--expname\", type=str, default = \"endonerf/pulling_fdm\")\n",
    "parser.add_argument(\"--configs\", type=str, default = \"arguments/endonerf/default.py\")\n",
    "# args = parser.parse_args(sys.argv[1:])\n",
    "args = parser.parse_args(\"\")\n",
    "\n",
    "\n",
    "try:\n",
    "    from torch.utils.tensorboard import SummaryWriter\n",
    "    TENSORBOARD_FOUND = True\n",
    "except ImportError:\n",
    "    TENSORBOARD_FOUND = False"
   ]
  },
  {
   "cell_type": "code",
   "execution_count": 7,
   "id": "145282ab",
   "metadata": {},
   "outputs": [
    {
     "name": "stdout",
     "output_type": "stream",
     "text": [
      "Optimizing /mnt/ceph/tco/TCO-Staff/Homes/jinjing/exps/train/gs/SM/P2_7_170_195/deform3dgs_finaldbg/DBG_TIME_use_MAPF\n",
      "1030 [11/12 12:02:52]\n",
      "THE TEST Iters: 2 [11/12 12:02:52]\n"
     ]
    }
   ],
   "source": [
    "#////////////////////////////////////////////\n",
    "#use misgs env python\n",
    "mode='P2_7_170_195' #'pulling''cutting' #'P2_7_170_195'\n",
    "METHOD='deform3dgs' #'surggs'#'endog' 'deform3dgs'\n",
    "EXP_APPEND='_finaldbg'\n",
    "#other related\n",
    "ITER_TIMES = 2\n",
    "TENSORBOARD_FOUND = False\n",
    "TENSORBOARD_FOUND = True\n",
    "\n",
    "#////////////////////////////////////////////\n",
    "use_stree_grouping_strategy = True\n",
    "# use_stree_grouping_strategy = False\n",
    "if use_stree_grouping_strategy:\n",
    "    use_streetgs_render = True #fail\n",
    "    use_streetgs_render = False\n",
    "#///////////////////////////\n",
    "if 'P2_' in mode:\n",
    "    BASE_DATASET_PATH=\"/mnt/cluster/datasets/StereoMIS_processed\"\n",
    "    BASE_EXPERIMENT_PATH=\"/mnt/ceph/tco/TCO-Staff/Homes/jinjing/exps/train/gs/SM\"\n",
    "if mode in ['pulling','cutting']:\n",
    "    BASE_DATASET_PATH=\"/mnt/cluster/datasets/EndoNeRF\"\n",
    "    BASE_EXPERIMENT_PATH=\"/mnt/ceph/tco/TCO-Staff/Homes/jinjing/exps/train/gs/EndoNeRF\"\n",
    "DATASET_PATH=f\"{BASE_DATASET_PATH}/{mode}\"\n",
    "TIMESTAMP = datetime.now().strftime(\"%m-%d_%H-%M-%S\")\n",
    "TIMESTAMP = 'DBG_TIME'#datetime.now().strftime(\"%m-%d_%H-%M-%S\")\n",
    "EXPERIMENT_PATH=f\"{BASE_EXPERIMENT_PATH}/{mode}/{METHOD}{EXP_APPEND}/{TIMESTAMP}\"\n",
    "CONFIG_PATH=\"/mnt/ceph/tco/TCO-Staff/Homes/jinjing/proj/gs/baselines/Deform3DGS/arguments/endonerf/default.py\"\n",
    "args._source_path = DATASET_PATH\n",
    "args.source_path = DATASET_PATH\n",
    "args.expname = EXPERIMENT_PATH\n",
    "args.configs = CONFIG_PATH\n",
    "#//////////update with config\n",
    "assert args.configs!= None\n",
    "import mmcv\n",
    "from utils.params_utils import merge_hparams\n",
    "config = mmcv.Config.fromfile(args.configs)\n",
    "args = merge_hparams(args, config)\n",
    "#update with tool_info automatically\n",
    "expname_append = ''\n",
    "if hasattr(args,'tool_mask'):\n",
    "    expname_append += f'_{args.tool_mask}'\n",
    "if hasattr(args,'init_mode'):\n",
    "    expname_append += f'_{args.init_mode}'\n",
    "setattr(args, 'expname', f'{args.expname}{expname_append}')\n",
    "if 'pulling' in args.source_path or 'cutting' in args.source_path:\n",
    "    pass\n",
    "    print('TODO','nouse and inverse might be problematic---the data gt depth always masked tool region....')\n",
    "    # assert args.tool_mask == \"use\",'nouse and inverse might be problematic---the data gt depth always masked tool region....'\n",
    "args.save_iterations.append(args.iterations)\n",
    "args.model_path = args.expname#jj--use by misgs\n",
    "print(\"Optimizing \" + args.model_path)\n",
    "# Initialize system state (RNG)\n",
    "safe_state(args.quiet)\n",
    "print(args.iterations)\n",
    "#//////////update with ours\n",
    "args.iterations = ITER_TIMES\n",
    "print('THE TEST Iters:',args.iterations)"
   ]
  },
  {
   "cell_type": "code",
   "execution_count": 8,
   "id": "3d3bf2fe",
   "metadata": {},
   "outputs": [
    {
     "name": "stdout",
     "output_type": "stream",
     "text": [
      "\n",
      "Training start. /mnt/ceph/tco/TCO-Staff/Homes/jinjing/exps/train/gs/SM/P2_7_170_195/deform3dgs_finaldbg/DBG_TIME_use_MAPF\n",
      "START MISGS...\n",
      "todo maybe support write CN in addtion to args_group..\n",
      "Output folder: /mnt/ceph/tco/TCO-Staff/Homes/jinjing/exps/train/gs/SM/P2_7_170_195/deform3dgs_finaldbg/DBG_TIME_use_MAPF\n",
      "todo clean the sceneinfo meta and caminfo meta\n",
      "////////////////***************///////////\n",
      "MisGS reuse the Scene function of deform3dgs (only break it down)\n",
      "Scene_Meta_data+Cam_K_T loaded, total image:26\n",
      "Loading camera....(surg-gs have seperate cam and scene)\n"
     ]
    },
    {
     "name": "stderr",
     "output_type": "stream",
     "text": [
      "  0%|          | 0/22 [00:00<?, ?it/s]"
     ]
    },
    {
     "name": "stderr",
     "output_type": "stream",
     "text": [
      "100%|██████████| 22/22 [00:00<00:00, 68.17it/s]\n",
      "100%|██████████| 4/4 [00:00<00:00, 47.27it/s]\n",
      "100%|██████████| 26/26 [00:00<00:00, 70.42it/s]\n"
     ]
    },
    {
     "name": "stdout",
     "output_type": "stream",
     "text": [
      "todo fake object obj traklets etc just for going through\n",
      "most important for misgs\n",
      "todo probably have issue\n",
      "The init points for training did not consider mask?...\n",
      "take care! it keeps changing for each runs!...\n",
      "alright consider mask\n",
      "do we need to perform tool_mask here as well?\n",
      "the points3d.ply is not used at all, try not touch the src dataset\n",
      "Found poses_bounds.py and extra marks with EndoNeRf\n",
      "self.cameras_extent is  0.0\n",
      "Loading Training Cameras\n",
      "Loading Test Cameras\n",
      "Loading Video Cameras\n",
      "Loading point_cloud (use for can step-step train init)\n"
     ]
    },
    {
     "ename": "NameError",
     "evalue": "name 'ActorPose' is not defined",
     "output_type": "error",
     "traceback": [
      "\u001b[0;31m---------------------------------------------------------------------------\u001b[0m",
      "\u001b[0;31mNameError\u001b[0m                                 Traceback (most recent call last)",
      "\u001b[0;32m<ipython-input-8-766e1157f80c>\u001b[0m in \u001b[0;36m<module>\u001b[0;34m\u001b[0m\n\u001b[1;32m     17\u001b[0m     \u001b[0mprint\u001b[0m\u001b[0;34m(\u001b[0m\u001b[0;34m'START MISGS...'\u001b[0m\u001b[0;34m)\u001b[0m\u001b[0;34m\u001b[0m\u001b[0;34m\u001b[0m\u001b[0m\n\u001b[1;32m     18\u001b[0m     \u001b[0;32mfrom\u001b[0m \u001b[0mtrain_utils_misgs\u001b[0m \u001b[0;32mimport\u001b[0m \u001b[0mtraining_misgsmodel\u001b[0m\u001b[0;34m\u001b[0m\u001b[0;34m\u001b[0m\u001b[0m\n\u001b[0;32m---> 19\u001b[0;31m     \u001b[0mtraining_misgsmodel\u001b[0m\u001b[0;34m(\u001b[0m\u001b[0margs\u001b[0m\u001b[0;34m,\u001b[0m\u001b[0muse_streetgs_render\u001b[0m \u001b[0;34m=\u001b[0m \u001b[0muse_streetgs_render\u001b[0m\u001b[0;34m)\u001b[0m\u001b[0;34m\u001b[0m\u001b[0;34m\u001b[0m\u001b[0m\n\u001b[0m\u001b[1;32m     20\u001b[0m \u001b[0;31m# All done\u001b[0m\u001b[0;34m\u001b[0m\u001b[0;34m\u001b[0m\u001b[0;34m\u001b[0m\u001b[0m\n\u001b[1;32m     21\u001b[0m \u001b[0mprint\u001b[0m\u001b[0;34m(\u001b[0m\u001b[0;34m\"\\nTraining complete.\"\u001b[0m\u001b[0;34m,\u001b[0m \u001b[0margs\u001b[0m\u001b[0;34m.\u001b[0m\u001b[0mmodel_path\u001b[0m\u001b[0;34m)\u001b[0m\u001b[0;34m\u001b[0m\u001b[0;34m\u001b[0m\u001b[0m\n",
      "\u001b[0;32m/mnt/ceph/tco/TCO-Staff/Homes/jinjing/proj/gs/baselines/Deform3DGS/train_utils_misgs.py\u001b[0m in \u001b[0;36mtraining_misgsmodel\u001b[0;34m(args, use_streetgs_render)\u001b[0m\n\u001b[1;32m    203\u001b[0m \u001b[0;34m\u001b[0m\u001b[0m\n\u001b[1;32m    204\u001b[0m     controller = MisGaussianModel(metadata=scene.getSceneMetaData(),\n\u001b[0;32m--> 205\u001b[0;31m                                  new_cfg=cfg)#nn.module instance\n\u001b[0m\u001b[1;32m    206\u001b[0m     scene.gs_init(gaussians_or_controller=controller,\n\u001b[1;32m    207\u001b[0m                   reset_camera_extent=mod_stree_param.camera_extent)\n",
      "\u001b[0;32m/mnt/ceph/tco/TCO-Staff/Homes/jinjing/proj/gs/baselines/Deform3DGS/scene/mis_gaussian_model.py\u001b[0m in \u001b[0;36m__init__\u001b[0;34m(self, metadata, new_cfg)\u001b[0m\n\u001b[1;32m     84\u001b[0m             \u001b[0mself\u001b[0m\u001b[0;34m.\u001b[0m\u001b[0mcandidate_model_names\u001b[0m\u001b[0;34m[\u001b[0m\u001b[0;34m'obj_model_cand'\u001b[0m\u001b[0;34m]\u001b[0m\u001b[0;34m=\u001b[0m \u001b[0mmodel_names_obj\u001b[0m\u001b[0;34m\u001b[0m\u001b[0;34m\u001b[0m\u001b[0m\n\u001b[1;32m     85\u001b[0m         \u001b[0;31m#/////////////////////////////\u001b[0m\u001b[0;34m\u001b[0m\u001b[0;34m\u001b[0m\u001b[0;34m\u001b[0m\u001b[0m\n\u001b[0;32m---> 86\u001b[0;31m         \u001b[0mself\u001b[0m\u001b[0;34m.\u001b[0m\u001b[0msetup_functions\u001b[0m\u001b[0;34m(\u001b[0m\u001b[0;34m)\u001b[0m\u001b[0;34m\u001b[0m\u001b[0;34m\u001b[0m\u001b[0m\n\u001b[0m\u001b[1;32m     87\u001b[0m \u001b[0;34m\u001b[0m\u001b[0m\n\u001b[1;32m     88\u001b[0m     \u001b[0;32mdef\u001b[0m \u001b[0msetup_functions\u001b[0m\u001b[0;34m(\u001b[0m\u001b[0mself\u001b[0m\u001b[0;34m)\u001b[0m\u001b[0;34m:\u001b[0m\u001b[0;34m\u001b[0m\u001b[0;34m\u001b[0m\u001b[0m\n",
      "\u001b[0;32m/mnt/ceph/tco/TCO-Staff/Homes/jinjing/proj/gs/baselines/Deform3DGS/scene/mis_gaussian_model.py\u001b[0m in \u001b[0;36msetup_functions\u001b[0;34m(self)\u001b[0m\n\u001b[1;32m    170\u001b[0m \u001b[0;34m\u001b[0m\u001b[0m\n\u001b[1;32m    171\u001b[0m \u001b[0;34m\u001b[0m\u001b[0m\n\u001b[0;32m--> 172\u001b[0;31m             self.actor_pose = ActorPose(obj_tracklets, \n\u001b[0m\u001b[1;32m    173\u001b[0m                                         \u001b[0mtracklet_timestamps\u001b[0m\u001b[0;34m,\u001b[0m\u001b[0;34m\u001b[0m\u001b[0;34m\u001b[0m\u001b[0m\n\u001b[1;32m    174\u001b[0m                                         \u001b[0mcamera_timestamps\u001b[0m\u001b[0;34m,\u001b[0m\u001b[0;34m\u001b[0m\u001b[0;34m\u001b[0m\u001b[0m\n",
      "\u001b[0;31mNameError\u001b[0m: name 'ActorPose' is not defined"
     ]
    }
   ],
   "source": [
    "sys.stdout = stdout #this is important to avoid the no printout issue\n",
    "args.save_iterations = []\n",
    "#/////////////////////////////////\n",
    "from train import training\n",
    "from train_utils_misgs import training_misgsmodel\n",
    "torch.cuda.empty_cache()\n",
    "torch.autograd.set_detect_anomaly(args.detect_anomaly)\n",
    "# All done\n",
    "print(\"\\nTraining start.\", args.model_path)\n",
    "if not use_stree_grouping_strategy:\n",
    "    print('START SINGLE GS...')\n",
    "    training(lp.extract(args), hp.extract(args), op.extract(args), pp.extract(args), args.test_iterations, \\\n",
    "        args.save_iterations, args.checkpoint_iterations, args.start_checkpoint, args.debug_from, args.expname, \n",
    "        extra_mark=args.extra_mark,\n",
    "        args = args) \n",
    "else:\n",
    "    print('START MISGS...')\n",
    "    from train_utils_misgs import training_misgsmodel\n",
    "    training_misgsmodel(args,use_streetgs_render = use_streetgs_render)\n",
    "# All done\n",
    "print(\"\\nTraining complete.\", args.model_path)"
   ]
  }
 ],
 "metadata": {
  "jupytext": {
   "cell_metadata_filter": "-all",
   "main_language": "python",
   "notebook_metadata_filter": "-all"
  },
  "kernelspec": {
   "display_name": "Python 3",
   "language": "python",
   "name": "python3"
  },
  "language_info": {
   "codemirror_mode": {
    "name": "ipython",
    "version": 3
   },
   "file_extension": ".py",
   "mimetype": "text/x-python",
   "name": "python",
   "nbconvert_exporter": "python",
   "pygments_lexer": "ipython3",
   "version": "3.7.12"
  }
 },
 "nbformat": 4,
 "nbformat_minor": 5
}
